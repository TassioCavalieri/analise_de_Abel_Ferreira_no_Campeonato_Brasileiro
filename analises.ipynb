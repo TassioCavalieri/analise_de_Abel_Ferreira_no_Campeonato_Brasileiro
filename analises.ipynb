{
  "nbformat": 4,
  "nbformat_minor": 0,
  "metadata": {
    "colab": {
      "provenance": []
    },
    "kernelspec": {
      "name": "python3",
      "display_name": "Python 3"
    },
    "language_info": {
      "name": "python"
    }
  },
  "cells": [
    {
      "cell_type": "markdown",
      "source": [
        "# Informações inciciais\n",
        "\n",
        "* Os dados utilizados são os arquivos criados no criando_df_2020_2021_2022_e_2023_ate_29_07_2023.ipynb;\n",
        "* Esse projeto tem como objetivo fazer uma análise do desempenho de Abel Ferreira no comando do Palmeiras."
      ],
      "metadata": {
        "id": "Jq2SxuM32Lhs"
      }
    },
    {
      "cell_type": "markdown",
      "source": [
        "# Importanto bibliotecas e dados"
      ],
      "metadata": {
        "id": "lMZEhVAE2mmU"
      }
    },
    {
      "cell_type": "code",
      "execution_count": 1,
      "metadata": {
        "id": "-F9ilcFm2IYV"
      },
      "outputs": [],
      "source": [
        "import pandas as pd\n",
        "import seaborn as sns\n",
        "import matplotlib.pyplot as plt"
      ]
    },
    {
      "cell_type": "code",
      "source": [
        "df_2020 = pd.read_csv('palmeiras_2020.csv')\n",
        "df_2021 = pd.read_csv('palmeiras_2021.csv')\n",
        "df_2022 = pd.read_csv('palmeiras_2022.csv')\n",
        "df_2023 = pd.read_csv('palmeiras_2023.csv')"
      ],
      "metadata": {
        "id": "FDwy3_3W2vMV"
      },
      "execution_count": 4,
      "outputs": []
    },
    {
      "cell_type": "markdown",
      "source": [
        "# Criando funções"
      ],
      "metadata": {
        "id": "wbPpGUpe3PGW"
      }
    },
    {
      "cell_type": "code",
      "source": [
        "# criando função que gera o resultado (V, E ou D) das partidas\n",
        "\n",
        "def gerar_resultado(x):  # x é o dataframe\n",
        "  r = []\n",
        "  for i in range(x.shape[0]):\n",
        "    if x['time_mandante'].iloc[i] == 'Palmeiras':\n",
        "      if x['gols_mandante'].iloc[i] > x['gols_visitante'].iloc[i]:\n",
        "        r.insert(i, 'V')\n",
        "      elif x['gols_mandante'].iloc[i] == x['gols_visitante'].iloc[i]:\n",
        "        r.insert(i, 'E')\n",
        "      else:\n",
        "        r.insert(i, 'D')\n",
        "    else:\n",
        "      if x['gols_mandante'].iloc[i] > x['gols_visitante'].iloc[i]:\n",
        "        r.insert(i, 'D')\n",
        "      elif x['gols_mandante'].iloc[i] == x['gols_visitante'].iloc[i]:\n",
        "        r.insert(i, 'E')\n",
        "      else:\n",
        "        r.insert(i, 'V')\n",
        "\n",
        "  return r"
      ],
      "metadata": {
        "id": "fQ3xB1Lm3AJ7"
      },
      "execution_count": 11,
      "outputs": []
    },
    {
      "cell_type": "code",
      "source": [],
      "metadata": {
        "id": "dmWJBVTE5Ibk"
      },
      "execution_count": null,
      "outputs": []
    },
    {
      "cell_type": "markdown",
      "source": [
        "# Criando a coluna de resultados"
      ],
      "metadata": {
        "id": "gH9fVHoL5KJt"
      }
    },
    {
      "cell_type": "code",
      "source": [
        "df_2020['Resultado'] = gerar_resultado(df_2020)\n",
        "df_2021['Resultado'] = gerar_resultado(df_2021)\n",
        "df_2022['Resultado'] = gerar_resultado(df_2022)\n",
        "df_2023['Resultado'] = gerar_resultado(df_2023)"
      ],
      "metadata": {
        "id": "kGb9dATj5Noq"
      },
      "execution_count": 14,
      "outputs": []
    },
    {
      "cell_type": "code",
      "source": [],
      "metadata": {
        "id": "H0vn6XlA6U-r"
      },
      "execution_count": null,
      "outputs": []
    }
  ]
}